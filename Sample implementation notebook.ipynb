{
 "cells": [
  {
   "cell_type": "markdown",
   "id": "98931608",
   "metadata": {},
   "source": [
    "Sample Implementation for prediction\n",
    "---"
   ]
  },
  {
   "cell_type": "code",
   "execution_count": null,
   "id": "fe352e09",
   "metadata": {},
   "outputs": [],
   "source": [
    "# Step 1: Import from interface\n",
    "from interface import TheModel, the_predictor\n",
    "import torch\n",
    "\n",
    "#Step 2: Load Model\n",
    "model = TheModel()\n",
    "model.load_state_dict(torch.load('checkpoints/final_weights.pt', map_location='cpu'))\n",
    "model.eval()\n",
    "\n",
    "# Step 3: Predict on images\n",
    "image_paths = [\n",
    "    \"data/classical chinese10-vietnamese nom.png\"\n",
    "]\n",
    "\n",
    "# Call the predictor (which internally uses the global model — as per your classify_images definition)\n",
    "predictions = the_predictor(image_paths)\n",
    "\n",
    "# Step 4: Show predictions\n",
    "for result in predictions:\n",
    "    print(f\"Image: {result['image_path']}\")\n",
    "    print(f\"  Prediction: {result['predicted_label']} | Confidence: {result['confidence']:.2f}\")\n",
    "    print(f\"  Probabilities:\")\n",
    "    for class_name, prob in result['probabilities'].items():\n",
    "        print(f\"    {class_name}: {prob:.4f}\")\n",
    "    print() \n"
   ]
  },
  {
   "cell_type": "markdown",
   "id": "72f32119",
   "metadata": {},
   "source": [
    "Sample implementation for training\n",
    "---"
   ]
  },
  {
   "cell_type": "code",
   "execution_count": null,
   "id": "fc69d56a",
   "metadata": {},
   "outputs": [],
   "source": [
    "# Step 1: Import from interface\n",
    "from interface import TheModel, the_trainer, the_dataloader\n",
    "from interface import TheModel, the_trainer, TheDataset, the_dataloader\n",
    "from train import set_eval_loaders\n",
    "import torch\n",
    "import torch.nn as nn\n",
    "import torch.optim as optim\n",
    "from config import learning_rate, epochs\n",
    "\n",
    "# Step 2: Load data\n",
    "train_dir = 'ALL3/train'   # e.g., 'your train directory'\n",
    "test_dir  = 'ALL3/test'    # e.g., 'your test directory'\n",
    "\n",
    "train_loader, val_loader, test_loader = the_dataloader(train_dir, test_dir)\n",
    "\n",
    "model = TheModel()\n",
    "loss_fn = nn.CrossEntropyLoss()\n",
    "optimizer = optim.Adam(model.parameters(), lr=learning_rate)\n",
    "\n",
    "#set validation and test loaders(Ideal to call set val_laoder and test loader here)\n",
    "set_eval_loaders(val_loader, test_loader)\n",
    "\n",
    "# -------------------------------\n",
    "# Train the Model\n",
    "# -------------------------------\n",
    "\n",
    "trained_model = the_trainer(model, num_epochs=epochs, train_loader=train_loader, loss_fn=loss_fn, optimizer=optimizer)\n",
    "\n",
    "\n"
   ]
  }
 ],
 "metadata": {
  "kernelspec": {
   "display_name": "Python 3",
   "language": "python",
   "name": "python3"
  },
  "language_info": {
   "codemirror_mode": {
    "name": "ipython",
    "version": 3
   },
   "file_extension": ".py",
   "mimetype": "text/x-python",
   "name": "python",
   "nbconvert_exporter": "python",
   "pygments_lexer": "ipython3",
   "version": "3.12.1"
  }
 },
 "nbformat": 4,
 "nbformat_minor": 5
}
